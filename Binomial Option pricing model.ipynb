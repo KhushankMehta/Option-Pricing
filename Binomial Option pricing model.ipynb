{
 "cells": [
  {
   "cell_type": "code",
   "execution_count": 1,
   "id": "48360eee",
   "metadata": {},
   "outputs": [],
   "source": [
    "import numpy as np"
   ]
  },
  {
   "cell_type": "code",
   "execution_count": 2,
   "id": "fe83cc60",
   "metadata": {},
   "outputs": [],
   "source": [
    "#Initial Parameter\n",
    "S0 = 100\n",
    "K = 100\n",
    "T = 1\n",
    "r = 0.06\n",
    "N = 3\n",
    "u=1.1\n",
    "d = 1/u\n",
    "opttype = \"C\""
   ]
  },
  {
   "cell_type": "code",
   "execution_count": 3,
   "id": "bb25ec55",
   "metadata": {},
   "outputs": [
    {
     "data": {
      "text/plain": [
       "10.145735799928817"
      ]
     },
     "execution_count": 3,
     "metadata": {},
     "output_type": "execute_result"
    }
   ],
   "source": [
    "#Slow Method\n",
    "def binomial_tree_slow(K,T,S0,r,N,u,d,opttype =\"C\"):\n",
    "    dt = T/N\n",
    "    q = (np.exp(r*dt)-d)/(u-d)\n",
    "    disc = np.exp(-r*dt)\n",
    "    \n",
    "    S = np.zeros(N+1)\n",
    "    S[0] = S0*d**N\n",
    "    for j in range(1,N+1):\n",
    "        S[j] = S[j-1]*u/d\n",
    "        \n",
    "    C = np.zeros(N+1)\n",
    "    for j in range(0,N+1):\n",
    "        C[j] = max(0,S[j]-K)\n",
    "    \n",
    "    for i in np.arange(N,0,-1):\n",
    "        for j in range(0,i):\n",
    "            C[j] = disc*(q*C[j+1]+(1-q)*C[j])\n",
    "    return C[0]\n",
    "\n",
    "binomial_tree_slow(K,T,S0,r,N,u,d,opttype =\"C\")"
   ]
  },
  {
   "cell_type": "code",
   "execution_count": 4,
   "id": "212f39c6",
   "metadata": {},
   "outputs": [
    {
     "data": {
      "text/plain": [
       "10.145735799928826"
      ]
     },
     "execution_count": 4,
     "metadata": {},
     "output_type": "execute_result"
    }
   ],
   "source": [
    "#Fast Process\n",
    "\n",
    "def binomial_tree_fast(K,T,S0,r,N,u,d,opttype =\"C\"):\n",
    "    dt = T/N\n",
    "    q = (np.exp(r*dt)-d)/(u-d)\n",
    "    disc = np.exp(-r*dt)\n",
    "    \n",
    "    C = S0 * d ** (np.arange(N,-1,-1)) * u ** (np.arange(0,N+1))\n",
    "        \n",
    "    C = np.maximum(C-K,np.zeros(N+1))\n",
    "    \n",
    "    for i in np.arange(N,0,-1):\n",
    "        C = disc*(q*C[1:i+1]+(1-q)*C[0:i])\n",
    "    return C[0]\n",
    "\n",
    "binomial_tree_fast(K,T,S0,r,N,u,d,opttype =\"C\")"
   ]
  },
  {
   "cell_type": "code",
   "execution_count": null,
   "id": "c8ab4520",
   "metadata": {},
   "outputs": [],
   "source": []
  }
 ],
 "metadata": {
  "kernelspec": {
   "display_name": "Python 3 (ipykernel)",
   "language": "python",
   "name": "python3"
  },
  "language_info": {
   "codemirror_mode": {
    "name": "ipython",
    "version": 3
   },
   "file_extension": ".py",
   "mimetype": "text/x-python",
   "name": "python",
   "nbconvert_exporter": "python",
   "pygments_lexer": "ipython3",
   "version": "3.9.13"
  }
 },
 "nbformat": 4,
 "nbformat_minor": 5
}
