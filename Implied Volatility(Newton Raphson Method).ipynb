{
 "cells": [
  {
   "cell_type": "code",
   "execution_count": 1,
   "id": "1b74ce6a",
   "metadata": {},
   "outputs": [],
   "source": [
    "import numpy as np\n",
    "import pandas as pd\n",
    "import matplotlib.pyplot as plt\n",
    "import scipy.stats as st"
   ]
  },
  {
   "cell_type": "code",
   "execution_count": 10,
   "id": "b64ed654",
   "metadata": {},
   "outputs": [
    {
     "name": "stdout",
     "output_type": "stream",
     "text": [
      "iteration 1.0 with error = 4.873423609108585e-10\n",
      "Implied volatility for CallPrice= 2, strike K=120, \n",
      "      maturity T= 1, interest rate r= 0.05 and initial stock S_0=100 \n",
      "      equals to sigma_imp = 0.1614827\n",
      "Option Price for implied volatility of 0.16148272899165422 is equal to 2.000000004563198\n"
     ]
    }
   ],
   "source": [
    "v_market = 2;\n",
    "k = 120\n",
    "tau = 1;\n",
    "r = 0.05\n",
    "s_0 = 100;\n",
    "sigmaInit = 0.10\n",
    "CP=\"C\"\n",
    "\n",
    "def ImpliedVolatility(CP,s_0,k,sigma,tau,r):\n",
    "    error = 1e10;\n",
    "    optionPrice = lambda sigma:BS_Call_Option(CP,s_0,k,sigma,tau,r)\n",
    "    vega = lambda sigma:dV_dsigma(s_0,k,sigma,tau,r)\n",
    "    \n",
    "    n = 1.0\n",
    "    while error>10e-10:\n",
    "        f = v_market-optionPrice(sigma)\n",
    "        f_prim = -vega(sigma)\n",
    "        sigma_new = sigma-f/f_prim\n",
    "        \n",
    "        error = abs(sigma_new-sigma);\n",
    "        sigma = sigma_new\n",
    "        \n",
    "    print('iteration {0} with error = {1}'.format(n,error))\n",
    "    n = n+1\n",
    "    return sigma\n",
    "\n",
    "#vega calculation\n",
    "\n",
    "def dV_dsigma(s_0,k,sigma,tau,r):\n",
    "    d2 = (np.log(s_0/float(k))+(r-0.5*sigma**2)*tau)/float(sigma*(tau**0.5))\n",
    "    value = k*np.exp(-r*tau)*st.norm.cdf(d2)*np.sqrt(tau)\n",
    "    return value\n",
    "\n",
    "def BS_Call_Option(CP,s_0,k,sigma,tau,r):\n",
    "    d1 = (np.log(s_0/float(k))+(r+0.5*sigma**2)*tau)/float(sigma*(tau**0.5))\n",
    "    d2 = d1-sigma*np.sqrt(tau)\n",
    "    \n",
    "    if str(CP).lower() == \"c\" or str(CP).lower() == \"1\":\n",
    "        value = s_0*st.norm.cdf(d1) - k*np.exp(-r*tau)*st.norm.cdf(d2)\n",
    "    elif str(CP).lower() == \"p\" or str(CP).lower() == \"-1\":\n",
    "        value = -(s_0*st.norm.cdf(d1)) + k*np.exp(-r*tau)*st.norm.cdf(d2)\n",
    "    return value\n",
    "\n",
    "\n",
    "sigma_imp = ImpliedVolatility(CP,s_0,k,sigmaInit,tau,r)\n",
    "message = '''Implied volatility for CallPrice= {}, strike K={}, \n",
    "      maturity T= {}, interest rate r= {} and initial stock S_0={} \n",
    "      equals to sigma_imp = {:.7f}'''.format(v_market,k,tau,r,s_0,sigma_imp)\n",
    "            \n",
    "print(message)\n",
    "\n",
    "# Check! \n",
    "val = BS_Call_Option(CP,s_0,k,sigma_imp,tau,r)\n",
    "print('Option Price for implied volatility of {0} is equal to {1}'.format(sigma_imp, val))"
   ]
  },
  {
   "cell_type": "code",
   "execution_count": null,
   "id": "467cd244",
   "metadata": {},
   "outputs": [],
   "source": []
  }
 ],
 "metadata": {
  "kernelspec": {
   "display_name": "Python 3 (ipykernel)",
   "language": "python",
   "name": "python3"
  },
  "language_info": {
   "codemirror_mode": {
    "name": "ipython",
    "version": 3
   },
   "file_extension": ".py",
   "mimetype": "text/x-python",
   "name": "python",
   "nbconvert_exporter": "python",
   "pygments_lexer": "ipython3",
   "version": "3.9.13"
  }
 },
 "nbformat": 4,
 "nbformat_minor": 5
}
