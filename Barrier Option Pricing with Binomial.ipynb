{
 "cells": [
  {
   "cell_type": "code",
   "execution_count": 1,
   "id": "03d71948",
   "metadata": {},
   "outputs": [],
   "source": [
    "import numpy as np"
   ]
  },
  {
   "cell_type": "code",
   "execution_count": 2,
   "id": "ff4c5dc6",
   "metadata": {},
   "outputs": [],
   "source": [
    "# Initialise parameters\n",
    "S0 = 100      # initial stock price\n",
    "K = 100       # strike price\n",
    "T = 1         # time to maturity in years\n",
    "H = 125       # up-and-out barrier price/value\n",
    "r = 0.06      # annual risk-free rate\n",
    "N = 3         # number of time steps\n",
    "u = 1.1       # up-factor in binomial models\n",
    "d = 1/u       # ensure recombining tree\n",
    "opttype = 'C' # Option Type 'C' or 'P'\n",
    "     "
   ]
  },
  {
   "cell_type": "code",
   "execution_count": 3,
   "id": "9718fd46",
   "metadata": {},
   "outputs": [
    {
     "data": {
      "text/plain": [
       "4.00026736854323"
      ]
     },
     "execution_count": 3,
     "metadata": {},
     "output_type": "execute_result"
    }
   ],
   "source": [
    "#Slow Method\n",
    "def barrier_tree_slow(K,T,S0,H,r,N,u,d,opttype='C'):\n",
    "    #precompute values\n",
    "    dt = T/N\n",
    "    q = (np.exp(r*dt) - d)/(u-d)\n",
    "    disc = np.exp(-r*dt)\n",
    "\n",
    "    # initialise asset prices at maturity\n",
    "    S = np.zeros(N+1)\n",
    "    for j in range(0,N+1):\n",
    "        S[j] = S0 * u**j * d**(N-j)\n",
    "\n",
    "    # option payoff\n",
    "    C = np.zeros(N+1)\n",
    "    for j in range(0,N+1):\n",
    "        if opttype == 'C':\n",
    "            C[j] = max(0, S[j] - K)\n",
    "        else:\n",
    "            C[j] = max(0, K - S[j])\n",
    "\n",
    "    # check terminal condition payoff\n",
    "    for j in range(0, N+1):\n",
    "        S = S0 * u**j * d**(N-j)\n",
    "        if S >= H:\n",
    "            C[j] = 0\n",
    "\n",
    "    # backward recursion through the tree\n",
    "    for i in np.arange(N-1,-1,-1):\n",
    "        for j in range(0,i+1):\n",
    "            S = S0 * u**j * d**(i-j)\n",
    "            if S >= H:\n",
    "                C[j] = 0\n",
    "            else:\n",
    "                C[j] = disc * (q*C[j+1]+(1-q)*C[j])\n",
    "    return C[0]\n",
    "\n",
    "barrier_tree_slow(K,T,S0,H,r,N,u,d,opttype='C')"
   ]
  },
  {
   "cell_type": "code",
   "execution_count": 4,
   "id": "f6c0f31d",
   "metadata": {},
   "outputs": [
    {
     "data": {
      "text/plain": [
       "4.00026736854323"
      ]
     },
     "execution_count": 4,
     "metadata": {},
     "output_type": "execute_result"
    }
   ],
   "source": [
    "#Fast Method\n",
    "def barrier_tree_fast(K,T,S0,H,r,N,u,d,opttype='C'):\n",
    "    #precompute values\n",
    "    dt = T/N\n",
    "    q = (np.exp(r*dt) - d)/(u-d)\n",
    "    disc = np.exp(-r*dt)\n",
    "\n",
    "    # initialise asset prices at maturity\n",
    "    S = S0 * d**(np.arange(N,-1,-1)) * u**(np.arange(0,N+1,1))\n",
    "\n",
    "    # option payoff\n",
    "    if opttype == 'C':\n",
    "        C = np.maximum( S - K, 0 )\n",
    "    else:\n",
    "        C = np.maximum( K - S, 0 )\n",
    "\n",
    "    # check terminal condition payoff\n",
    "    C[S >= H] = 0\n",
    "\n",
    "    # backward recursion through the tree\n",
    "    for i in np.arange(N-1,-1,-1):\n",
    "        S = S0 * d**(np.arange(i,-1,-1)) * u**(np.arange(0,i+1,1))\n",
    "        C[:i+1] = disc * ( q * C[1:i+2] + (1-q) * C[0:i+1] )\n",
    "        C = C[:-1]\n",
    "        C[S >= H] = 0\n",
    "    return C[0]\n",
    "\n",
    "barrier_tree_fast(K,T,S0,H,r,N,u,d,opttype='C')"
   ]
  },
  {
   "cell_type": "code",
   "execution_count": null,
   "id": "3e6ac8e3",
   "metadata": {},
   "outputs": [],
   "source": []
  }
 ],
 "metadata": {
  "kernelspec": {
   "display_name": "Python 3 (ipykernel)",
   "language": "python",
   "name": "python3"
  },
  "language_info": {
   "codemirror_mode": {
    "name": "ipython",
    "version": 3
   },
   "file_extension": ".py",
   "mimetype": "text/x-python",
   "name": "python",
   "nbconvert_exporter": "python",
   "pygments_lexer": "ipython3",
   "version": "3.9.13"
  }
 },
 "nbformat": 4,
 "nbformat_minor": 5
}
