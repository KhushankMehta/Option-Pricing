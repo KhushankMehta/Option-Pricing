{
 "cells": [
  {
   "cell_type": "code",
   "execution_count": 1,
   "id": "9a5c92d2",
   "metadata": {},
   "outputs": [],
   "source": [
    "import math\n",
    "import numpy as np\n",
    "import pandas as pd\n",
    "import datetime\n",
    "import scipy.stats as stats\n",
    "import matplotlib.pyplot as plt\n",
    "from pandas_datareader import data as pdr"
   ]
  },
  {
   "cell_type": "code",
   "execution_count": 2,
   "id": "44ffbcff",
   "metadata": {},
   "outputs": [
    {
     "name": "stdout",
     "output_type": "stream",
     "text": [
      "0.1643835616438356\n"
     ]
    }
   ],
   "source": [
    "# initial derivative parameters\n",
    "S = 101.15          #stock price\n",
    "K = 98.01           #strike price\n",
    "vol = 0.0991        #volatility (%)\n",
    "r = 0.01            #risk-free rate (%)\n",
    "N = 10              #number of time steps\n",
    "M = 1000            #number of simulations\n",
    "\n",
    "market_value = 3.86 #market price of option\n",
    "T = ((datetime.date(2022,3,17)-datetime.date(2022,1,17)).days+1)/365    #time in years\n",
    "print(T)"
   ]
  },
  {
   "cell_type": "code",
   "execution_count": 3,
   "id": "c4ac58b7",
   "metadata": {},
   "outputs": [
    {
     "name": "stdout",
     "output_type": "stream",
     "text": [
      "Call value is $3.73 with SE +/- 0.03\n"
     ]
    }
   ],
   "source": [
    "dt = T/N\n",
    "mudt = (r*0.5*vol**2)*dt\n",
    "volsigma = vol*np.sqrt(dt)\n",
    "lnS = np.log(S)\n",
    "\n",
    "\n",
    "# Standard Error Placeholders\n",
    "sum_CT = 0\n",
    "sum_CT2 = 0\n",
    "for i in range(M):\n",
    "    lnSt1 = lnS\n",
    "    lnSt2  = lnS\n",
    "    for j in range(N):\n",
    "        epsilon = np.random.normal()\n",
    "        lnSt1 = lnSt1 + mudt + volsigma*epsilon\n",
    "        lnSt2 = lnSt2 + mudt - volsigma*epsilon\n",
    "    \n",
    "    ST1 = np.exp(lnSt1)\n",
    "    ST2 = np.exp(lnSt2)\n",
    "    CT = 0.5*(max(0, ST1 - K)+max(0, ST2 - K))\n",
    "    \n",
    "    sum_CT = sum_CT+ CT\n",
    "    sum_CT2 = sum_CT2 + CT*CT\n",
    "    \n",
    "#finding expectation and SE\n",
    "\n",
    "C0 = np.exp(-r*T)*sum_CT/M\n",
    "sigma = np.sqrt( (sum_CT2 - sum_CT*sum_CT/M)*np.exp(-2*r*T) / (M-1) )\n",
    "SE = sigma/np.sqrt(M)\n",
    "\n",
    "print(\"Call value is ${0} with SE +/- {1}\".format(np.round(C0,2),np.round(SE,2)))"
   ]
  },
  {
   "cell_type": "code",
   "execution_count": 4,
   "id": "851753c7",
   "metadata": {},
   "outputs": [
    {
     "name": "stdout",
     "output_type": "stream",
     "text": [
      "Call value is $3.76 with SE +/- 0.03\n"
     ]
    }
   ],
   "source": [
    "#Faster Method\n",
    "#precompute constants\n",
    "dt = T/N\n",
    "nudt = (r - 0.5*vol**2)*dt\n",
    "volsdt = vol*np.sqrt(dt)\n",
    "lnS = np.log(S)\n",
    "\n",
    "# Monte Carlo Method\n",
    "Z = np.random.normal(size=(N, M))\n",
    "delta_lnSt1 = nudt + volsdt*Z\n",
    "delta_lnSt2 = nudt - volsdt*Z\n",
    "lnSt1 = lnS + np.cumsum(delta_lnSt1, axis=0)\n",
    "lnSt2 = lnS + np.cumsum(delta_lnSt2, axis=0)\n",
    "\n",
    "# Compute Expectation and SE\n",
    "ST1 = np.exp(lnSt1)\n",
    "ST2 = np.exp(lnSt2)\n",
    "CT = 0.5*(np.maximum(0, ST1[-1] - K) + np.maximum(0,ST2[-1] - K))\n",
    "C0 = np.exp(-r*T)*np.sum(CT)/M\n",
    "\n",
    "sigma = np.sqrt( np.sum( (CT - C0)**2) / (M-1) )\n",
    "SE = sigma/np.sqrt(M)\n",
    "\n",
    "print(\"Call value is ${0} with SE +/- {1}\".format(np.round(C0,2),np.round(SE,2)))\n"
   ]
  },
  {
   "cell_type": "code",
   "execution_count": null,
   "id": "5bf32d75",
   "metadata": {},
   "outputs": [],
   "source": []
  }
 ],
 "metadata": {
  "kernelspec": {
   "display_name": "Python 3 (ipykernel)",
   "language": "python",
   "name": "python3"
  },
  "language_info": {
   "codemirror_mode": {
    "name": "ipython",
    "version": 3
   },
   "file_extension": ".py",
   "mimetype": "text/x-python",
   "name": "python",
   "nbconvert_exporter": "python",
   "pygments_lexer": "ipython3",
   "version": "3.9.13"
  }
 },
 "nbformat": 4,
 "nbformat_minor": 5
}
