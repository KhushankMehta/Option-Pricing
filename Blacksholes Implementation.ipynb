{
 "cells": [
  {
   "cell_type": "code",
   "execution_count": 1,
   "id": "0f8fee2d",
   "metadata": {},
   "outputs": [],
   "source": [
    "import numpy as np\n",
    "from scipy.stats import norm"
   ]
  },
  {
   "cell_type": "code",
   "execution_count": 2,
   "id": "ad08485e",
   "metadata": {},
   "outputs": [],
   "source": [
    "from py_vollib.black_scholes import black_scholes as bs\n",
    "from py_vollib.black_scholes.greeks.analytical import delta, gamma, vega, theta, rho"
   ]
  },
  {
   "cell_type": "code",
   "execution_count": 3,
   "id": "c70a9115",
   "metadata": {},
   "outputs": [],
   "source": [
    "r = 0.01\n",
    "S = 30\n",
    "K = 40\n",
    "T = 240/365\n",
    "sigma = 0.30\n",
    "def BlackSholesModel(r,S,K,T,sigma,type = \"c\"):\n",
    "    d1 = ((np.log(S/K))+((r+0.5*sigma**2)*T))/(sigma*np.sqrt(T))\n",
    "    d2 = d1-sigma*np.sqrt(T)\n",
    "    \n",
    "    try:\n",
    "        if type ==\"c\":\n",
    "            price = S*norm.cdf(d1,0,1) - K*np.exp(-r*T)*norm.cdf(d2,0,1)\n",
    "        elif type ==\"p\":\n",
    "            price = K*np.exp(-r*T)*norm.cdf(-d2,0,1) - S*norm.cdf(-d1,0,1)\n",
    "        return price ,bs(type, S, K, T, r, sigma)\n",
    "    except:\n",
    "        print(\"Check parameters again\")"
   ]
  },
  {
   "cell_type": "code",
   "execution_count": 4,
   "id": "3ec7f286",
   "metadata": {},
   "outputs": [
    {
     "name": "stdout",
     "output_type": "stream",
     "text": [
      "Option Price:  (0.5132843798399405, 0.5132843798399411)\n"
     ]
    }
   ],
   "source": [
    "print(\"Option Price: \", BlackSholesModel(r, S, K, T, sigma,\"c\"))"
   ]
  },
  {
   "cell_type": "code",
   "execution_count": 5,
   "id": "21ded448",
   "metadata": {},
   "outputs": [],
   "source": [
    "#Calculating option greeks"
   ]
  },
  {
   "cell_type": "code",
   "execution_count": 6,
   "id": "2a149406",
   "metadata": {},
   "outputs": [],
   "source": [
    "#Delta (Rate of change of value of option with respect to asset price)\n",
    "def delta_calc(r,S,K,T,sigma,type = \"c\"):\n",
    "    d1 = ((np.log(S/K))+((r+0.5*sigma**2)*T))/(sigma*np.sqrt(T))\n",
    "    \n",
    "    try:\n",
    "        if type ==\"c\":\n",
    "            delta_calc = norm.cdf(d1,0,1)\n",
    "        elif type ==\"p\":\n",
    "            delta_calc = -norm.cdf(-d1,0,1)\n",
    "        return delta_calc ,delta(type, S, K, T, r, sigma)\n",
    "    except:\n",
    "        print(\"Check parameters again\")\n",
    "        "
   ]
  },
  {
   "cell_type": "code",
   "execution_count": 7,
   "id": "36166d96",
   "metadata": {},
   "outputs": [
    {
     "name": "stdout",
     "output_type": "stream",
     "text": [
      "delta:  (0.15058613984880015, 0.15058613984880015)\n"
     ]
    }
   ],
   "source": [
    "print(\"delta: \", delta_calc(r,S,K,T,sigma,\"c\"))"
   ]
  },
  {
   "cell_type": "code",
   "execution_count": null,
   "id": "871f0123",
   "metadata": {},
   "outputs": [],
   "source": []
  },
  {
   "cell_type": "code",
   "execution_count": 8,
   "id": "53478668",
   "metadata": {},
   "outputs": [],
   "source": [
    "#Gamma (Rate of change of delta with respect to stock price)\n",
    "def gamma_calc(r,S,K,T,sigma,type = \"c\"):\n",
    "    d1 = ((np.log(S/K))+((r+0.5*sigma**2)*T))/(sigma*np.sqrt(T))\n",
    "    \n",
    "    try:\n",
    "        if type ==\"c\":\n",
    "            gamma_calc = norm.pdf(d1,0,1)/(S*sigma*np.sqrt(T))\n",
    "        elif type ==\"p\":\n",
    "            gamma_calc = norm.pdf(d1,0,1)/(S*sigma*np.sqrt(T))\n",
    "        return gamma_calc ,gamma(type, S, K, T, r, sigma)\n",
    "    except:\n",
    "        print(\"Check parameters again\")"
   ]
  },
  {
   "cell_type": "code",
   "execution_count": 9,
   "id": "7f91c7b5",
   "metadata": {},
   "outputs": [
    {
     "name": "stdout",
     "output_type": "stream",
     "text": [
      "Gamma:  (0.03203161102008452, 0.03203161102008452)\n"
     ]
    }
   ],
   "source": [
    "print(\"Gamma: \", gamma_calc(r, S, K, T, sigma,\"p\"))"
   ]
  },
  {
   "cell_type": "code",
   "execution_count": 10,
   "id": "b1ed9804",
   "metadata": {},
   "outputs": [],
   "source": [
    "#Vega (Rate of change of value of option with respect to volatility)\n",
    "def vega_calc(r,S,K,T,sigma,type = \"c\"):\n",
    "    d1 = ((np.log(S/K))+((r+0.5*sigma**2)*T))/(sigma*np.sqrt(T))\n",
    "    d2 = d1-sigma*np.sqrt(T)\n",
    "    \n",
    "    try:\n",
    "        if type ==\"c\":\n",
    "            vega_calc = S*norm.pdf(d1,0,1)*np.sqrt(T)\n",
    "        elif type ==\"p\":\n",
    "            vega_calc = S*norm.pdf(d1,0,1)*np.sqrt(T)\n",
    "        return vega_calc*0.01 ,vega(type, S, K, T, r, sigma)\n",
    "    except:\n",
    "        print(\"Check parameters again\")"
   ]
  },
  {
   "cell_type": "code",
   "execution_count": 11,
   "id": "1f63ceb2",
   "metadata": {},
   "outputs": [
    {
     "name": "stdout",
     "output_type": "stream",
     "text": [
      "Vage:  (0.05686707929045143, 0.05686707929045143)\n"
     ]
    }
   ],
   "source": [
    "print(\"Vage: \", vega_calc(r, S, K, T, sigma,\"c\"))"
   ]
  },
  {
   "cell_type": "code",
   "execution_count": 12,
   "id": "d5b0222e",
   "metadata": {},
   "outputs": [],
   "source": [
    "#Theta (Rate of change of valcue of option with respect to time)\n",
    "def theta_calc(r,S,K,T,sigma,type = \"c\"):\n",
    "    d1 = ((np.log(S/K))+((r+0.5*sigma**2)*T))/(sigma*np.sqrt(T))\n",
    "    d2 = d1-sigma*np.sqrt(T)\n",
    "    \n",
    "    try:\n",
    "        if type ==\"c\":\n",
    "            theta_calc = -((S*norm.cdf(d1,0,1)*sigma)/(2*T))-(r*K*np.exp(-r*T)*norm.pdf(d2,0,1))\n",
    "        elif type ==\"p\":\n",
    "            theta_calc = -((S*norm.cdf(d1,0,1)*sigma)/(2*T))+(r*K*np.exp(-r*T)*norm.pdf(d2,0,1))\n",
    "        return theta_calc/365 ,theta(type, S, K, T, r, sigma)\n",
    "    except:\n",
    "        print(\"Check parameters again\")"
   ]
  },
  {
   "cell_type": "code",
   "execution_count": 13,
   "id": "131dc487",
   "metadata": {},
   "outputs": [],
   "source": [
    "#Rho(rate of change of value of option with respect to interest rate)\n",
    "def rho_calc(r,S,K,T,sigma,type = \"c\"):\n",
    "    d1 = ((np.log(S/K))+((r+0.5*sigma**2)*T))/(sigma*np.sqrt(T))\n",
    "    d2 = d1-sigma*np.sqrt(T)\n",
    "    \n",
    "    try:\n",
    "        if type ==\"c\":\n",
    "            rho_calc = K*T*np.exp(-r*T)*norm.cdf(d2,0,1)\n",
    "        elif type ==\"p\":\n",
    "            rho_calc = -K*T*np.exp(-r*T)*norm.cdf(-d2,0,1)\n",
    "        return rho_calc*0.01 ,rho(type, S, K, T, r, sigma)\n",
    "    except:\n",
    "        print(\"Check parameters again\")"
   ]
  },
  {
   "cell_type": "code",
   "execution_count": 14,
   "id": "235f26ac",
   "metadata": {},
   "outputs": [
    {
     "name": "stdout",
     "output_type": "stream",
     "text": [
      "Option Price:  [10.251, 10.251]\n",
      "       Delta:  [-0.849, -0.849]\n",
      "       Gamma:  [0.032, 0.032]\n",
      "       Vega :  [0.057, 0.057]\n",
      "       Theta:  [-0.003, -0.003]\n",
      "       Rho  :  [-0.235, -0.235]\n"
     ]
    }
   ],
   "source": [
    "option_type='p'\n",
    "\n",
    "print(\"Option Price: \", [round(x,3) for x in BlackSholesModel(r, S, K, T, sigma, option_type)])\n",
    "print(\"       Delta: \", [round(x,3) for x in delta_calc(r, S, K, T, sigma, option_type)])\n",
    "print(\"       Gamma: \", [round(x,3) for x in gamma_calc(r, S, K, T, sigma, option_type)])\n",
    "print(\"       Vega : \", [round(x,3) for x in vega_calc(r, S, K, T, sigma, option_type)])\n",
    "print(\"       Theta: \", [round(x,3) for x in theta_calc(r, S, K, T, sigma, option_type)])\n",
    "print(\"       Rho  : \", [round(x,3) for x in rho_calc(r, S, K, T, sigma, option_type)])"
   ]
  },
  {
   "cell_type": "code",
   "execution_count": null,
   "id": "3bc2dff3",
   "metadata": {},
   "outputs": [],
   "source": []
  }
 ],
 "metadata": {
  "kernelspec": {
   "display_name": "Python 3 (ipykernel)",
   "language": "python",
   "name": "python3"
  },
  "language_info": {
   "codemirror_mode": {
    "name": "ipython",
    "version": 3
   },
   "file_extension": ".py",
   "mimetype": "text/x-python",
   "name": "python",
   "nbconvert_exporter": "python",
   "pygments_lexer": "ipython3",
   "version": "3.9.13"
  }
 },
 "nbformat": 4,
 "nbformat_minor": 5
}
